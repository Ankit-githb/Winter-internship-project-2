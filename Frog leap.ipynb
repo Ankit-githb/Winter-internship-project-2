{
 "cells": [
  {
   "cell_type": "markdown",
   "metadata": {},
   "source": [
    "# Problem statement\n",
    "\n",
    "Create famous 'Frog leap' puzzle game. Try completing the game before starting to get an idea about its working.\n",
    "[Demonstration](https://www.neok12.com/games/leap-froggies/leap-froggies.htm).\n",
    "\n",
    "\n",
    "### Rules ###\n",
    "1. The left set of frogs can only move right, the right set of frogs can only move left.\n",
    "2. Frogs can move forward one space, or move two spaces by jumping over another frog from opposite side.\n",
    "3. The puzzle is solved when the two sets of frogs have switched positions.\n",
    "\n",
    "# Here's the solution :"
   ]
  },
  {
   "cell_type": "code",
   "execution_count": 1,
   "metadata": {},
   "outputs": [
    {
     "name": "stdout",
     "output_type": "stream",
     "text": [
      "Always enter an integer less that 7\n",
      "[ 0 ,  1 ,  2 ,  3 ,  4 ,  5 ,  6 ]\n",
      "['G', 'G', 'G', '-', 'B', 'B', 'B']\n",
      "YOU LOSE!!\n"
     ]
    }
   ],
   "source": [
    "Positions = list(['G','G','G','-','B','B','B'])\n",
    "print(\"Always enter an integer less that 7\")\n",
    "print(\"[ 0 ,  1 ,  2 ,  3 ,  4 ,  5 ,  6 ]\")\n",
    "print(Positions)\n",
    "\n",
    "while True:\n",
    "    pos = input(\"Press q to quit else \\nEnter position of piece:\")\n",
    "    if pos == 'q':\n",
    "        print(\"YOU LOSE!!\")\n",
    "        break\n",
    "    pos = int(pos)\n",
    "\n",
    "    if pos<0 or 6<pos:\n",
    "        print(\"Invalid move\")\n",
    "        continue\n",
    "    if Positions[pos] == '-':\n",
    "        print(\"Invalid move\")\n",
    "        continue\n",
    "\n",
    "    if Positions[pos] == 'G':\n",
    "        if (pos + 1) <= 6 and Positions[pos + 1] == '-':\n",
    "            pass\n",
    "        elif (pos + 2) <= 6 and Positions[pos + 2] == '-' and Positions[pos + 1] == 'B':\n",
    "            pass\n",
    "        else:\n",
    "            print(\"Invalid move\")\n",
    "            break\n",
    "    if Positions[pos] == 'B':\n",
    "        if (pos - 1) >= 0 and Positions[pos - 1] == '-':\n",
    "            pass\n",
    "        elif (pos - 2) >= 0 and Positions[pos - 2] == '-' and Positions[pos - 1] == 'G':\n",
    "            pass\n",
    "        else:\n",
    "            print(\"Invalid move\")\n",
    "\n",
    "    pos2 = 0\n",
    "    if Positions[pos] == 'G':\n",
    "        if Positions[pos + 1] == '-':\n",
    "            pos2 = (pos+1)\n",
    "        elif Positions[pos + 2] == '-':\n",
    "            pos2 = (pos+2)\n",
    "    if Positions[pos] == 'B':\n",
    "        if Positions[pos - 1] == '-':\n",
    "            pos2 = (pos-1)\n",
    "        elif Positions[pos - 2] == '-':\n",
    "            pos2 = (pos-2)\n",
    "    Positions[pos], Positions[pos2] = Positions[pos2], Positions[pos]\n",
    "\n",
    "    print(\"[ 0 ,  1 ,  2 ,  3 ,  4 ,  5 ,  6 ]\")\n",
    "    print(Positions)\n",
    "\n",
    "    if Positions == ['B','B','B','-','G','G','G']:\n",
    "        print(\"YOU WIN\")\n",
    "        break"
   ]
  }
 ],
 "metadata": {
  "kernelspec": {
   "display_name": "Python 3",
   "language": "python",
   "name": "python3"
  },
  "language_info": {
   "codemirror_mode": {
    "name": "ipython",
    "version": 3
   },
   "file_extension": ".py",
   "mimetype": "text/x-python",
   "name": "python",
   "nbconvert_exporter": "python",
   "pygments_lexer": "ipython3",
   "version": "3.9.5"
  }
 },
 "nbformat": 4,
 "nbformat_minor": 2
}
